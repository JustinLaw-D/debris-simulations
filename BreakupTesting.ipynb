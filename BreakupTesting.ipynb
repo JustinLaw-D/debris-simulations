{
 "cells": [
  {
   "cell_type": "code",
   "execution_count": 1,
   "metadata": {},
   "outputs": [
    {
     "data": {
      "image/png": "[encoded data removed]",
      "text/plain": [
       "<Figure size 432x288 with 1 Axes>"
      ]
     },
     "metadata": {
      "needs_background": "light"
     },
     "output_type": "display_data"
    },
    {
     "data": {
      "image/png": "[encoded data removed]",
      "text/plain": [
       "<Figure size 432x288 with 1 Axes>"
      ]
     },
     "metadata": {
      "needs_background": "light"
     },
     "output_type": "display_data"
    }
   ],
   "source": [
    "from BreakupModel import *\n",
    "import numpy as np\n",
    "import matplotlib.pyplot as plt\n",
    "\n",
    "L = randL_coll(10000, 1/1000, 1)\n",
    "x = np.zeros(L.shape)\n",
    "v = np.zeros(L.shape)\n",
    "for i in range(len(L)):\n",
    "    x[i] = randX_coll(1, -2, 2, L[i])\n",
    "    v[i] = randv_coll(1, x[i])\n",
    "\n",
    "hc,edgesc = np.histogram(x,100)\n",
    "hv,edgesv = np.histogram(v,100)\n",
    "\n",
    "import matplotlib.pylab as plt\n",
    "\n",
    "plt.figure()\n",
    "plt.step(edgesc[0:-1],hc)\n",
    "plt.xlabel(\"Chi [log10 A/M] \")\n",
    "plt.ylabel(\"Number\")\n",
    "\n",
    "plt.figure()\n",
    "plt.step(edgesv[0:-1],hv)\n",
    "plt.xlabel(\"Log10 Delta V\")\n",
    "plt.ylabel(\"Number\")\n",
    "\n",
    "plt.show()"
   ]
  },
  {
   "cell_type": "code",
   "execution_count": 12,
   "metadata": {},
   "outputs": [
    {
     "name": "stdout",
     "output_type": "stream",
     "text": [
      "(0.39906020770216155, 1.541810029642265e-05)\n"
     ]
    }
   ],
   "source": [
    "from BreakupModel import *\n",
    "import numpy as np\n",
    "from scipy.integrate import quad, dblquad, tplquad\n",
    "from scipy.stats import norm\n",
    "\n",
    "L_min = 1/1000\n",
    "L_max = 1\n",
    "x_min = -2\n",
    "x_max = 2\n",
    "R = 6371\n",
    "r = (R + 600)*1000\n",
    "r2 = r + 25/2*1000\n",
    "G = 6.67e-11\n",
    "Me = 5.972e24\n",
    "v0 = np.sqrt(G*Me/r)\n",
    "v2 = np.sqrt(G*Me*(2/r-1/(2*r))-v0**2)\n",
    "\n",
    "def pdf_L(L):\n",
    "    beta = 1.71\n",
    "    return (beta*L**(-(beta + 1)))/(L_min**(-beta) - L_max**(-beta))\n",
    "\n",
    "def pdf_X(X, L):\n",
    "    if L >= 11/100 : return _pdf_X_11(X, L)\n",
    "    elif L <= 8/100 : return _pdf_X_8(X, L)\n",
    "    else:\n",
    "        lam_min, lam_max = np.log10(8/100), np.log10(11/100)\n",
    "        P = (np.log10(L)-lam_min)/(lam_max-lam_min)\n",
    "        return P*_pdf_X_11(X, L) + (1-P)*_pdf_X_8(X, L)\n",
    "\n",
    "def _pdf_X_8(X, L):\n",
    "    lam = np.log10(L)\n",
    "\n",
    "    # define functions for determining normal distribution parameters\n",
    "    def mu_soc(lambda_c):\n",
    "        if lambda_c <= -1.75 : return -0.3\n",
    "        elif lambda_c < -1.25 : return -0.3 - 1.4*(lambda_c + 1.75)\n",
    "        else : return -1\n",
    "\n",
    "    def sigma_soc(lambda_c):\n",
    "        if lambda_c <= -3.5 : return 0.2\n",
    "        else : return 0.2 + 0.1333*(lambda_c + 3.5)\n",
    "    \n",
    "    mu = mu_soc(lam) # calculate parameters\n",
    "    sigma = sigma_soc(lam)\n",
    "    C = 2/(erf((x_max-mu)/(np.sqrt(2)*sigma)) - erf((x_min-mu)/(np.sqrt(2)*sigma))) # normalization factor\n",
    "    # compute total distribution\n",
    "    return C*norm.pdf(X, loc=mu, scale=sigma)\n",
    "\n",
    "def _pdf_X_11(X, L):\n",
    "\n",
    "    lam = np.log10(L)\n",
    "\n",
    "    # define functions for determining normal distribution parameters\n",
    "    def alpha_sc(lambda_c):\n",
    "            if lambda_c <= -1.95 : return 0\n",
    "            elif lambda_c < 0.55 : return 0.3 + 0.4*(lambda_c + 1.2)\n",
    "            else : return 1\n",
    "\n",
    "    def mu1_sc(lambda_c):\n",
    "        if lambda_c <= -1.1 : return -0.6\n",
    "        elif lambda_c < 0 : return -0.6 - 0.318*(lambda_c + 1.1)\n",
    "        else : return -0.95\n",
    "\n",
    "    def sigma1_sc(lambda_c):\n",
    "        if lambda_c <= -1.3 : return 0.1\n",
    "        elif lambda_c < -0.3 : return 0.1 + 0.2*(lambda_c + 1.3)\n",
    "        else : return 0.3\n",
    "\n",
    "    def mu2_sc(lambda_c):\n",
    "        if lambda_c <= -0.7 : return -1.2\n",
    "        elif lambda_c < -0.1 : return -1.2 - 1.333*(lambda_c + 0.7)\n",
    "        else : return -2\n",
    "\n",
    "    def sigma2_sc(lambda_c):\n",
    "        if lambda_c <= -0.5 : return 0.5\n",
    "        elif lambda_c < -0.3 : return 0.5 - (lambda_c + 0.5)\n",
    "        else : return 0.3\n",
    "    \n",
    "    mu1 = mu1_sc(lam) # calculate parameters\n",
    "    sigma1 = sigma1_sc(lam)\n",
    "    mu2 = mu2_sc(lam)\n",
    "    sigma2 = sigma2_sc(lam)\n",
    "    alpha = alpha_sc(lam)\n",
    "    # compute normalization factor\n",
    "    top = alpha*erf((x_max-mu1)/(np.sqrt(2)*sigma1)) + (1-alpha)*erf((x_max-mu2)/(np.sqrt(2)*sigma2))\n",
    "    bot = alpha*erf((x_min-mu1)/(np.sqrt(2)*sigma1)) + (1-alpha)*erf((x_min-mu2)/(np.sqrt(2)*sigma2))\n",
    "    C = 2/(top - bot)\n",
    "    # compute total distribution\n",
    "    fac_one = norm.pdf(X, loc=mu1, scale=sigma1)\n",
    "    fac_two = norm.pdf(X, loc=mu2, scale=sigma2)\n",
    "    return C*(alpha*fac_one + (1-alpha)*fac_two)\n",
    "\n",
    "def pdf_v(v, X):\n",
    "    mu = 0.9*X + 2.9 # calculate normal distribution parameters\n",
    "    sigma = 0.4\n",
    "    return norm.pdf(v, loc=mu, scale=sigma)\n",
    "\n",
    "def pdf_vprim(V, x):\n",
    "    del_v = np.sqrt(V**2-v0**2)\n",
    "    return pdf_v(np.log10(del_v), x)*V/(np.log(10)*del_v**2)\n",
    "\n",
    "def pdf_a(a, X):\n",
    "    vprim = np.sqrt(G*Me*(2/r-1/a))\n",
    "    return pdf_vprim(vprim, X)*(((2/r-(vprim**2)/(G*Me))**(-2))*(2*vprim)/(G*Me))**(-1)\n",
    "\n",
    "def P(a, X, L):\n",
    "    return pdf_L(L)*pdf_X(X, L)*pdf_a(a, X)\n",
    "\n",
    "#print(quad(pdf_X, x_min, x_max, args=(0.01)))\n",
    "#print(quad(pdf_a, r, 2*r, args=(0)))\n",
    "#print(quad(pdf_v, -np.inf, np.log10(v2), args=(0)))\n",
    "print(tplquad(P, L_min, L_max, x_min, x_max, r, r2))"
   ]
  }
 ],
 "metadata": {
  "interpreter": {
   "hash": "916dbcbb3f70747c44a77c7bcd40155683ae19c65e1c03b4aa3499c5328201f1"
  },
  "kernelspec": {
   "display_name": "Python 3.8.10 64-bit",
   "language": "python",
   "name": "python3"
  },
  "language_info": {
   "codemirror_mode": {
    "name": "ipython",
    "version": 3
   },
   "file_extension": ".py",
   "mimetype": "text/x-python",
   "name": "python",
   "nbconvert_exporter": "python",
   "pygments_lexer": "ipython3",
   "version": "3.8.10"
  },
  "orig_nbformat": 4
 },
 "nbformat": 4,
 "nbformat_minor": 2
}
