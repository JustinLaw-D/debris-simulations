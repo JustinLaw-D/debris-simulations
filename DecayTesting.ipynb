{
 "cells": [
  {
   "cell_type": "code",
   "execution_count": 1,
   "metadata": {},
   "outputs": [
    {
     "ename": "FileNotFoundError",
     "evalue": "[Errno 2] No such file or directory: 'cira-2012.dat'",
     "output_type": "error",
     "traceback": [
      "\u001b[0;31m---------------------------------------------------------------------------\u001b[0m",
      "\u001b[0;31mFileNotFoundError\u001b[0m                         Traceback (most recent call last)",
      "\u001b[1;32m/home/justi_6044/Summer_2022/debris-simulations/DecayTesting.ipynb Cell 1'\u001b[0m in \u001b[0;36m<cell line: 1>\u001b[0;34m()\u001b[0m\n\u001b[0;32m----> <a href='vscode-notebook-cell://wsl%2Bubuntu/home/justi_6044/Summer_2022/debris-simulations/DecayTesting.ipynb#ch0000000vscode-remote?line=0'>1</a>\u001b[0m \u001b[39mfrom\u001b[39;00m \u001b[39mAtmosphericDecayModels\u001b[39;00m \u001b[39mimport\u001b[39;00m \u001b[39m*\u001b[39m\n\u001b[1;32m      <a href='vscode-notebook-cell://wsl%2Bubuntu/home/justi_6044/Summer_2022/debris-simulations/DecayTesting.ipynb#ch0000000vscode-remote?line=2'>3</a>\u001b[0m \u001b[39mprint\u001b[39m(drag_lifetime(\u001b[39m800\u001b[39m\u001b[39m+\u001b[39m\u001b[39m25\u001b[39m, \u001b[39m800\u001b[39m, \u001b[39m0\u001b[39m, \u001b[39m0\u001b[39m, a_over_m\u001b[39m=\u001b[39m(\u001b[39m1\u001b[39m\u001b[39m/\u001b[39m(\u001b[39m20\u001b[39m\u001b[39m*\u001b[39m\u001b[39m2.2\u001b[39m)), dt\u001b[39m=\u001b[39m\u001b[39m100\u001b[39m\u001b[39m/\u001b[39m(\u001b[39m60\u001b[39m\u001b[39m*\u001b[39m\u001b[39m60\u001b[39m\u001b[39m*\u001b[39m\u001b[39m24\u001b[39m\u001b[39m*\u001b[39m\u001b[39m365.25\u001b[39m)))\n",
      "File \u001b[0;32m~/Summer_2022/debris-simulations/AtmosphericDecayModels.py:10\u001b[0m, in \u001b[0;36m<module>\u001b[0;34m\u001b[0m\n\u001b[1;32m      7\u001b[0m Re \u001b[39m=\u001b[39m \u001b[39m6371\u001b[39m \u001b[39m# radius of Earth (km)\u001b[39;00m\n\u001b[1;32m      9\u001b[0m \u001b[39m# read density model\u001b[39;00m\n\u001b[0;32m---> 10\u001b[0m atmfile\u001b[39m=\u001b[39m\u001b[39mopen\u001b[39;49m(\u001b[39m\"\u001b[39;49m\u001b[39mcira-2012.dat\u001b[39;49m\u001b[39m\"\u001b[39;49m,\u001b[39m\"\u001b[39;49m\u001b[39mr\u001b[39;49m\u001b[39m\"\u001b[39;49m)\n\u001b[1;32m     11\u001b[0m header\u001b[39m=\u001b[39matmfile\u001b[39m.\u001b[39mreadline()\n\u001b[1;32m     12\u001b[0m zmodel\u001b[39m=\u001b[39m[]\n",
      "\u001b[0;31mFileNotFoundError\u001b[0m: [Errno 2] No such file or directory: 'cira-2012.dat'"
     ]
    }
   ],
   "source": [
    "from AtmosphericDecayModels import *\n",
    "\n",
    "print(drag_lifetime(800+25, 800, 0, 0, a_over_m=(1/(20*2.2)), dt=100/(60*60*24*365.25)))"
   ]
  }
 ],
 "metadata": {
  "kernelspec": {
   "display_name": "Python 3.8.10 64-bit",
   "language": "python",
   "name": "python3"
  },
  "language_info": {
   "codemirror_mode": {
    "name": "ipython",
    "version": 3
   },
   "file_extension": ".py",
   "mimetype": "text/x-python",
   "name": "python",
   "nbconvert_exporter": "python",
   "pygments_lexer": "ipython3",
   "version": "3.8.10"
  },
  "orig_nbformat": 4,
  "vscode": {
   "interpreter": {
    "hash": "916dbcbb3f70747c44a77c7bcd40155683ae19c65e1c03b4aa3499c5328201f1"
   }
  }
 },
 "nbformat": 4,
 "nbformat_minor": 2
}
