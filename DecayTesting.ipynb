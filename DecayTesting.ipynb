{
 "cells": [
  {
   "cell_type": "code",
   "execution_count": 10,
   "metadata": {},
   "outputs": [
    {
     "name": "stdout",
     "output_type": "stream",
     "text": [
      "85.53322142969776\n",
      "117.1348120436294\n"
     ]
    }
   ],
   "source": [
    "from AtmosphericDecayModels import *\n",
    "\n",
    "print(drag_lifetime(800+25, 800, 0, 0, a_over_m=(1/(20*2.2)), dt=100/(60*60*24*365.25)))\n",
    "print(-25/dadt(800, 0, 0, 1/(20*2.2), 2.2, False))"
   ]
  }
 ],
 "metadata": {
  "interpreter": {
   "hash": "06e1609af5625e389a65249580271598ed61cf3af55be82d29e5cd7c3da203ce"
  },
  "kernelspec": {
   "display_name": "Python 3.9.12 64-bit (windows store)",
   "language": "python",
   "name": "python3"
  },
  "language_info": {
   "codemirror_mode": {
    "name": "ipython",
    "version": 3
   },
   "file_extension": ".py",
   "mimetype": "text/x-python",
   "name": "python",
   "nbconvert_exporter": "python",
   "pygments_lexer": "ipython3",
   "version": "3.9.12"
  },
  "orig_nbformat": 4
 },
 "nbformat": 4,
 "nbformat_minor": 2
}
